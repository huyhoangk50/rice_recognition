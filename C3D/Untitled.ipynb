{
 "cells": [
  {
   "cell_type": "code",
   "execution_count": 22,
   "metadata": {},
   "outputs": [],
   "source": [
    "import numpy as np\n",
    "import scipy.io as sio\n",
    "import os\n",
    "import glob\n",
    "from scipy import sparse\n",
    "import random as rd\n",
    "import os\n",
    "# os.environ[\"THEANO_FLAGS\"] = \"mode=FAST_RUN,device=gpu,floatX=float32\"\n",
    "# import theano\n",
    "from keras.models import Sequential \n",
    "from keras.layers import Dense\n",
    "from keras.layers import Convolution3D\n",
    "from keras.layers import MaxPooling3D\n",
    "from keras.layers import ZeroPadding3D\n",
    "from keras.layers import Dropout\n",
    "from keras.layers import Flatten\n",
    "import keras\n",
    "import pandas as pd\n",
    "import csv\n",
    "from random import shuffle\n",
    "from sklearn.model_selection import train_test_split\n",
    "import matplotlib.pyplot as plt\n",
    "from sklearn import preprocessing\n",
    "min_max_scaler = preprocessing.MinMaxScaler()\n",
    "seed = 7\n",
    "np.random.seed(seed)\n",
    "import matplotlib.pyplot as plt\n",
    "from matplotlib.colors import ListedColormap\n",
    "import re"
   ]
  },
  {
   "cell_type": "code",
   "execution_count": 6,
   "metadata": {
    "collapsed": true
   },
   "outputs": [],
   "source": [
    "def readFullSpecFeature(file_name):\n",
    "    content = sio.loadmat(file_name)\n",
    "#     print content\n",
    "    return content['fullspecData']\n",
    "\n",
    "def loadFullSpecFeature(species, rootPath = '../data/specData/', timeNum = 2, seedsNum = 48):\n",
    "    data = list()\n",
    "    for time in range(0, timeNum):\n",
    "        for seed in range(0,seedsNum):\n",
    "            file_name = rootPath + species + '-0' + str(time +1) + '/' + str(seed + 1)+\"_\"+\"spec.mat\"\n",
    "#             print file_name\n",
    "            data.append(readFullSpecFeature(file_name))\n",
    "    return np.asarray(data)"
   ]
  },
  {
   "cell_type": "code",
   "execution_count": 7,
   "metadata": {},
   "outputs": [
    {
     "name": "stdout",
     "output_type": "stream",
     "text": [
      "(96, 48, 48, 256)\n"
     ]
    }
   ],
   "source": [
    "a = loadFullSpecFeature('HoangLong')\n",
    "print a.shape"
   ]
  },
  {
   "cell_type": "code",
   "execution_count": 41,
   "metadata": {},
   "outputs": [],
   "source": [
    "def C3D(summary = False):\n",
    "    \"\"\" Return the Keras model of the network\n",
    "    \"\"\"\n",
    "    model = Sequential()\n",
    "    # 1st layer group\n",
    "    model.add(Convolution3D(64, 3, 3, 3, activation='relu', \n",
    "                            border_mode='same', name='conv1',\n",
    "                            subsample=(1, 1, 1), \n",
    "                            input_shape=(48, 48, 24, 3)))\n",
    "#     print model.output_shape\n",
    "    model.add(MaxPooling3D(pool_size=(1, 2, 2), strides=(1, 2, 2), \n",
    "                           border_mode='valid', name='pool1'))\n",
    "    # 2nd layer group\n",
    "    model.add(Convolution3D(128, 3, 3, 3, activation='relu', \n",
    "                            border_mode='same', name='conv2',\n",
    "                            subsample=(1, 1, 1)))\n",
    "    model.add(MaxPooling3D(pool_size=(2, 2, 2), strides=(2, 2, 2), \n",
    "                           border_mode='valid', name='pool2'))\n",
    "    # 3rd layer group\n",
    "    model.add(Convolution3D(256, 3, 3, 3, activation='relu', \n",
    "                            border_mode='same', name='conv3a',\n",
    "                            subsample=(1, 1, 1)))\n",
    "    model.add(Convolution3D(256, 3, 3, 3, activation='relu', \n",
    "                            border_mode='same', name='conv3b',\n",
    "                            subsample=(1, 1, 1)))\n",
    "    model.add(MaxPooling3D(pool_size=(2, 2, 2), strides=(2, 2, 2), \n",
    "                           border_mode='valid', name='pool3'))\n",
    "    # 4th layer group\n",
    "    model.add(Convolution3D(512, 3, 3, 3, activation='relu', \n",
    "                            border_mode='same', name='conv4a',\n",
    "                            subsample=(1, 1, 1)))\n",
    "    model.add(Convolution3D(512, 3, 3, 3, activation='relu', \n",
    "                            border_mode='same', name='conv4b',\n",
    "                            subsample=(1, 1, 1)))\n",
    "    model.add(MaxPooling3D(pool_size=(2, 2, 2), strides=(2, 2, 2), \n",
    "                           border_mode='valid', name='pool4'))\n",
    "    # 5th layer group\n",
    "    model.add(Convolution3D(512, 3, 3, 3, activation='relu', \n",
    "                            border_mode='same', name='conv5a',\n",
    "                            subsample=(1, 1, 1)))\n",
    "    model.add(Convolution3D(512, 3, 3, 3, activation='relu', \n",
    "                            border_mode='same', name='conv5b',\n",
    "                            subsample=(1, 1, 1)))\n",
    "    model.add(ZeroPadding3D(padding=(0, 1, 1)))\n",
    "    model.add(MaxPooling3D(pool_size=(2, 2, 2), strides=(2, 2, 2), \n",
    "                           border_mode='valid', name='pool5'))\n",
    "    model.add(Flatten())\n",
    "    # FC layers group\n",
    "    model.add(Dense(1000, activation='relu', name='fc6'))\n",
    "    model.add(Dropout(.5))\n",
    "    model.add(Dense(6, activation='relu', name='fc7'))\n",
    "#     model.add(Dropout(.5))\n",
    "#     model.add(Dense(6, activation='softmax', name='fc8'))\n",
    "    if summary:\n",
    "        print(model.summary())\n",
    "    return model"
   ]
  },
  {
   "cell_type": "code",
   "execution_count": 43,
   "metadata": {},
   "outputs": [
    {
     "name": "stdout",
     "output_type": "stream",
     "text": [
      "_________________________________________________________________\n",
      "Layer (type)                 Output Shape              Param #   \n",
      "=================================================================\n",
      "conv1 (Conv3D)               (None, 48, 48, 24, 64)    5248      \n",
      "_________________________________________________________________\n",
      "pool1 (MaxPooling3D)         (None, 48, 24, 12, 64)    0         \n",
      "_________________________________________________________________\n",
      "conv2 (Conv3D)               (None, 48, 24, 12, 128)   221312    \n",
      "_________________________________________________________________\n",
      "pool2 (MaxPooling3D)         (None, 24, 12, 6, 128)    0         \n",
      "_________________________________________________________________\n",
      "conv3a (Conv3D)              (None, 24, 12, 6, 256)    884992    \n",
      "_________________________________________________________________\n",
      "conv3b (Conv3D)              (None, 24, 12, 6, 256)    1769728   \n",
      "_________________________________________________________________\n",
      "pool3 (MaxPooling3D)         (None, 12, 6, 3, 256)     0         \n",
      "_________________________________________________________________\n",
      "conv4a (Conv3D)              (None, 12, 6, 3, 512)     3539456   \n",
      "_________________________________________________________________\n",
      "conv4b (Conv3D)              (None, 12, 6, 3, 512)     7078400   \n",
      "_________________________________________________________________\n",
      "pool4 (MaxPooling3D)         (None, 6, 3, 1, 512)      0         \n",
      "_________________________________________________________________\n",
      "conv5a (Conv3D)              (None, 6, 3, 1, 512)      7078400   \n",
      "_________________________________________________________________\n",
      "conv5b (Conv3D)              (None, 6, 3, 1, 512)      7078400   \n",
      "_________________________________________________________________\n",
      "zero_padding3d_11 (ZeroPaddi (None, 6, 5, 3, 512)      0         \n",
      "_________________________________________________________________\n",
      "pool5 (MaxPooling3D)         (None, 3, 2, 1, 512)      0         \n",
      "_________________________________________________________________\n",
      "flatten_12 (Flatten)         (None, 3072)              0         \n",
      "_________________________________________________________________\n",
      "fc6 (Dense)                  (None, 1000)              3073000   \n",
      "_________________________________________________________________\n",
      "dropout_16 (Dropout)         (None, 1000)              0         \n",
      "_________________________________________________________________\n",
      "fc7 (Dense)                  (None, 6)                 6006      \n",
      "=================================================================\n",
      "Total params: 30,734,942\n",
      "Trainable params: 30,734,942\n",
      "Non-trainable params: 0\n",
      "_________________________________________________________________\n",
      "None\n"
     ]
    },
    {
     "name": "stderr",
     "output_type": "stream",
     "text": [
      "/usr/local/lib/python2.7/dist-packages/ipykernel_launcher.py:9: UserWarning: Update your `Conv3D` call to the Keras 2 API: `Conv3D(64, (3, 3, 3), name=\"conv1\", activation=\"relu\", input_shape=(48, 48, 2..., padding=\"same\", strides=(1, 1, 1))`\n",
      "  if __name__ == '__main__':\n",
      "/usr/local/lib/python2.7/dist-packages/ipykernel_launcher.py:12: UserWarning: Update your `MaxPooling3D` call to the Keras 2 API: `MaxPooling3D(padding=\"valid\", strides=(1, 2, 2), name=\"pool1\", pool_size=(1, 2, 2))`\n",
      "  if sys.path[0] == '':\n",
      "/usr/local/lib/python2.7/dist-packages/ipykernel_launcher.py:16: UserWarning: Update your `Conv3D` call to the Keras 2 API: `Conv3D(128, (3, 3, 3), padding=\"same\", strides=(1, 1, 1), activation=\"relu\", name=\"conv2\")`\n",
      "  app.launch_new_instance()\n",
      "/usr/local/lib/python2.7/dist-packages/ipykernel_launcher.py:18: UserWarning: Update your `MaxPooling3D` call to the Keras 2 API: `MaxPooling3D(padding=\"valid\", strides=(2, 2, 2), name=\"pool2\", pool_size=(2, 2, 2))`\n",
      "/usr/local/lib/python2.7/dist-packages/ipykernel_launcher.py:22: UserWarning: Update your `Conv3D` call to the Keras 2 API: `Conv3D(256, (3, 3, 3), padding=\"same\", strides=(1, 1, 1), activation=\"relu\", name=\"conv3a\")`\n",
      "/usr/local/lib/python2.7/dist-packages/ipykernel_launcher.py:25: UserWarning: Update your `Conv3D` call to the Keras 2 API: `Conv3D(256, (3, 3, 3), padding=\"same\", strides=(1, 1, 1), activation=\"relu\", name=\"conv3b\")`\n",
      "/usr/local/lib/python2.7/dist-packages/ipykernel_launcher.py:27: UserWarning: Update your `MaxPooling3D` call to the Keras 2 API: `MaxPooling3D(padding=\"valid\", strides=(2, 2, 2), name=\"pool3\", pool_size=(2, 2, 2))`\n",
      "/usr/local/lib/python2.7/dist-packages/ipykernel_launcher.py:31: UserWarning: Update your `Conv3D` call to the Keras 2 API: `Conv3D(512, (3, 3, 3), padding=\"same\", strides=(1, 1, 1), activation=\"relu\", name=\"conv4a\")`\n",
      "/usr/local/lib/python2.7/dist-packages/ipykernel_launcher.py:34: UserWarning: Update your `Conv3D` call to the Keras 2 API: `Conv3D(512, (3, 3, 3), padding=\"same\", strides=(1, 1, 1), activation=\"relu\", name=\"conv4b\")`\n",
      "/usr/local/lib/python2.7/dist-packages/ipykernel_launcher.py:36: UserWarning: Update your `MaxPooling3D` call to the Keras 2 API: `MaxPooling3D(padding=\"valid\", strides=(2, 2, 2), name=\"pool4\", pool_size=(2, 2, 2))`\n",
      "/usr/local/lib/python2.7/dist-packages/ipykernel_launcher.py:40: UserWarning: Update your `Conv3D` call to the Keras 2 API: `Conv3D(512, (3, 3, 3), padding=\"same\", strides=(1, 1, 1), activation=\"relu\", name=\"conv5a\")`\n",
      "/usr/local/lib/python2.7/dist-packages/ipykernel_launcher.py:43: UserWarning: Update your `Conv3D` call to the Keras 2 API: `Conv3D(512, (3, 3, 3), padding=\"same\", strides=(1, 1, 1), activation=\"relu\", name=\"conv5b\")`\n",
      "/usr/local/lib/python2.7/dist-packages/ipykernel_launcher.py:46: UserWarning: Update your `MaxPooling3D` call to the Keras 2 API: `MaxPooling3D(padding=\"valid\", strides=(2, 2, 2), name=\"pool5\", pool_size=(2, 2, 2))`\n"
     ]
    },
    {
     "data": {
      "text/plain": [
       "<keras.models.Sequential at 0x7f14202edf50>"
      ]
     },
     "execution_count": 43,
     "metadata": {},
     "output_type": "execute_result"
    }
   ],
   "source": [
    " C3D(summary = True)"
   ]
  }
 ],
 "metadata": {
  "kernelspec": {
   "display_name": "Python 2",
   "language": "python",
   "name": "python2"
  },
  "language_info": {
   "codemirror_mode": {
    "name": "ipython",
    "version": 2
   },
   "file_extension": ".py",
   "mimetype": "text/x-python",
   "name": "python",
   "nbconvert_exporter": "python",
   "pygments_lexer": "ipython2",
   "version": "2.7.12"
  }
 },
 "nbformat": 4,
 "nbformat_minor": 2
}
