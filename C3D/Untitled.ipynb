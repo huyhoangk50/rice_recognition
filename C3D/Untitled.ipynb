{
 "cells": [
  {
   "cell_type": "code",
   "execution_count": 36,
   "metadata": {},
   "outputs": [],
   "source": [
    "import numpy as np\n",
    "import scipy.io as sio\n",
    "import os\n",
    "import glob\n",
    "from scipy import sparse\n",
    "import random as rd\n",
    "import os\n",
    "# os.environ[\"THEANO_FLAGS\"] = \"mode=FAST_RUN,device=gpu,floatX=float32\"\n",
    "# import theano\n",
    "from keras.models import Sequential \n",
    "from keras.layers import Dense\n",
    "from keras.layers import Dropout\n",
    "from keras.layers import Flatten\n",
    "import keras\n",
    "import pandas as pd\n",
    "import csv\n",
    "from random import shuffle\n",
    "from sklearn.model_selection import train_test_split\n",
    "import matplotlib.pyplot as plt\n",
    "from sklearn import preprocessing\n",
    "min_max_scaler = preprocessing.MinMaxScaler()\n",
    "seed = 7\n",
    "np.random.seed(seed)\n",
    "import matplotlib.pyplot as plt\n",
    "from matplotlib.colors import ListedColormap\n",
    "import re"
   ]
  },
  {
   "cell_type": "code",
   "execution_count": 53,
   "metadata": {
    "collapsed": true
   },
   "outputs": [],
   "source": [
    "def readFullSpecFeature(file_name):\n",
    "    content = sio.loadmat(file_name)\n",
    "#     print content\n",
    "    return content['fullspecData']\n",
    "\n",
    "def loadFullSpecFeature(species, rootPath = '../data/specData/', timeNum = 2, seedsNum = 48):\n",
    "    data = list()\n",
    "    for time in range(0, timeNum):\n",
    "        for seed in range(0,seedsNum):\n",
    "            file_name = rootPath + species + '-0' + str(time +1) + '/' + str(seed + 1)+\"_\"+\"spec.mat\"\n",
    "#             print file_name\n",
    "            data.append(readFullSpecFeature(file_name))\n",
    "    return np.asarray(data)"
   ]
  },
  {
   "cell_type": "code",
   "execution_count": 55,
   "metadata": {},
   "outputs": [
    {
     "name": "stdout",
     "output_type": "stream",
     "text": [
      "(96, 48, 48, 256)\n"
     ]
    }
   ],
   "source": [
    "a = loadFullSpecFeature('BQ10')\n",
    "print a.shape"
   ]
  }
 ],
 "metadata": {
  "kernelspec": {
   "display_name": "Python 2",
   "language": "python",
   "name": "python2"
  },
  "language_info": {
   "codemirror_mode": {
    "name": "ipython",
    "version": 2
   },
   "file_extension": ".py",
   "mimetype": "text/x-python",
   "name": "python",
   "nbconvert_exporter": "python",
   "pygments_lexer": "ipython2",
   "version": "2.7.12"
  }
 },
 "nbformat": 4,
 "nbformat_minor": 2
}
