{
 "cells": [
  {
   "cell_type": "code",
   "execution_count": 47,
   "metadata": {
    "collapsed": true
   },
   "outputs": [],
   "source": [
    "import numpy as np\n",
    "import scipy.io as sio\n",
    "import os\n",
    "import glob"
   ]
  },
  {
   "cell_type": "markdown",
   "metadata": {},
   "source": [
    "# Reconstruct dataset"
   ]
  },
  {
   "cell_type": "code",
   "execution_count": null,
   "metadata": {
    "collapsed": true
   },
   "outputs": [],
   "source": [
    "data_path = '/home/hoangnh/PythonProject/RiceReconization/data/features-VIS/'\n",
    "list_spec_feature_file_path = glob.glob(data_path + '*fullricespec.mat')\n",
    "list_spatial_feature_file_path = glob.glob(data_path + '*Feat.mat')\n",
    "list_spatial_feature_file_path.sort()\n",
    "list_spec_feature_file_path.sort()"
   ]
  },
  {
   "cell_type": "markdown",
   "metadata": {},
   "source": [
    "# load features and analyse them"
   ]
  },
  {
   "cell_type": "markdown",
   "metadata": {},
   "source": [
    "## list all mat files on datapath"
   ]
  },
  {
   "cell_type": "code",
   "execution_count": 54,
   "metadata": {},
   "outputs": [
    {
     "name": "stdout",
     "output_type": "stream",
     "text": [
      "180\n",
      "180\n"
     ]
    }
   ],
   "source": [
    "data_path = '/home/hoangnh/PythonProject/RiceReconization/data/features-VIS/'\n",
    "list_spec_feature_file_path = glob.glob(data_path + '*fullricespec.mat')\n",
    "list_spatial_feature_file_path = glob.glob(data_path + '*Feat.mat')\n",
    "\n",
    "print len(list_spec_feature_file_path)\n",
    "print len(list_spatial_feature_file_path)\n",
    "\n",
    "list_spatial_feature_file_path.sort()\n",
    "list_spec_feature_file_path.sort()\n",
    "\n",
    "# for filePath in list_spatial_feature_file_path:\n",
    "#     print filePath\n"
   ]
  },
  {
   "cell_type": "code",
   "execution_count": 197,
   "metadata": {},
   "outputs": [
    {
     "name": "stdout",
     "output_type": "stream",
     "text": [
      "BC15\n",
      "[2]\n"
     ]
    }
   ],
   "source": [
    "# temp = glob.glob\n",
    "print list_spatial_feature_file_path[1][67: -19]"
   ]
  },
  {
   "cell_type": "markdown",
   "metadata": {},
   "source": [
    "### note: khong co giong thu 67, 82, 83, 84, 105, 106"
   ]
  },
  {
   "cell_type": "markdown",
   "metadata": {},
   "source": [
    "### Read feature from file functions"
   ]
  },
  {
   "cell_type": "code",
   "execution_count": 160,
   "metadata": {
    "collapsed": true
   },
   "outputs": [],
   "source": [
    "def readSpecFeature(file_name):\n",
    "    content = sio.loadmat(file_name)\n",
    "    return content['fullspecData']"
   ]
  },
  {
   "cell_type": "code",
   "execution_count": 182,
   "metadata": {
    "collapsed": true
   },
   "outputs": [],
   "source": [
    "def readSpatiaFeature(file_name):\n",
    "#     print file_name\n",
    "    content = sio.loadmat(file_name)\n",
    "    return content['spatialMat']"
   ]
  },
  {
   "cell_type": "markdown",
   "metadata": {},
   "source": [
    "### load spatial features of a species\n",
    "#### params:\n",
    "    spPositions: postions of this species in list of species\n",
    "    seedsNum: number of seeds\n",
    "    featuresNum: number of features for one species\n",
    "    list_file_path: file paths of all species\n",
    "#### return:\n",
    "    listFeature: features of all seeds of this species"
   ]
  },
  {
   "cell_type": "code",
   "execution_count": 184,
   "metadata": {
    "collapsed": true
   },
   "outputs": [],
   "source": [
    "def loadSpatialFeature(spPositions, seedsNum = 96, featuresNum = 6, list_file_path = list_spatial_feature_file_path):\n",
    "    listFeature = list()\n",
    "    for i in spPositions:\n",
    "        listFeature.append(readSpatiaFeature(list_file_path[i]))\n",
    "    listFeature = np.asarray(listFeature)\n",
    "    listFeature = listFeature.reshape(seedsNum, featuresNum)\n",
    "    return listFeature"
   ]
  },
  {
   "cell_type": "markdown",
   "metadata": {},
   "source": [
    "### prepare spatial sub-dataset\n"
   ]
  },
  {
   "cell_type": "code",
   "execution_count": 185,
   "metadata": {},
   "outputs": [],
   "source": [
    "species1Position = np.array([0,1])\n",
    "species2Position = np.array([2,3])\n",
    "species3Position = np.array([4,5])\n",
    "species4Position = np.array([6,7])\n",
    "species5Position = np.array([8,9])\n",
    "species6Position = np.array([10,11])\n",
    "sp1Features = loadSpatialFeature(species1Position)\n",
    "sp2Features = loadSpatialFeature(species2Position)\n",
    "sp3Features = loadSpatialFeature(species3Position)\n",
    "sp4Features = loadSpatialFeature(species4Position)\n",
    "sp5Features = loadSpatialFeature(species5Position)\n",
    "sp6Features = loadSpatialFeature(species6Position)"
   ]
  },
  {
   "cell_type": "markdown",
   "metadata": {},
   "source": [
    "### check features dementions"
   ]
  },
  {
   "cell_type": "code",
   "execution_count": 178,
   "metadata": {},
   "outputs": [
    {
     "name": "stdout",
     "output_type": "stream",
     "text": [
      "(96, 6)\n",
      "(96, 6)\n",
      "(96, 6)\n",
      "(96, 6)\n",
      "(96, 6)\n",
      "(96, 6)\n"
     ]
    }
   ],
   "source": [
    "print sp1Features.shape\n",
    "print sp2Features.shape\n",
    "print sp3Features.shape\n",
    "print sp4Features.shape\n",
    "print sp5Features.shape\n",
    "print sp6Features.shape"
   ]
  },
  {
   "cell_type": "markdown",
   "metadata": {},
   "source": [
    "### Test spec feature"
   ]
  },
  {
   "cell_type": "code",
   "execution_count": 96,
   "metadata": {},
   "outputs": [
    {
     "name": "stdout",
     "output_type": "stream",
     "text": [
      "(48, 256)\n"
     ]
    }
   ],
   "source": [
    "specFeaturesample1  = np.asarray(readSpecFeature(list_spec_feature_file_path[1]))\n",
    "print specFeaturesample1.shape"
   ]
  }
 ],
 "metadata": {
  "kernelspec": {
   "display_name": "Python 2",
   "language": "python",
   "name": "python2"
  },
  "language_info": {
   "codemirror_mode": {
    "name": "ipython",
    "version": 2
   },
   "file_extension": ".py",
   "mimetype": "text/x-python",
   "name": "python",
   "nbconvert_exporter": "python",
   "pygments_lexer": "ipython2",
   "version": "2.7.12"
  }
 },
 "nbformat": 4,
 "nbformat_minor": 2
}
